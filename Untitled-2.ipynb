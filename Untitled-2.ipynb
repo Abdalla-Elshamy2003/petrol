{
 "cells": [
  {
   "cell_type": "code",
   "execution_count": 1,
   "id": "cf9dde7d",
   "metadata": {},
   "outputs": [],
   "source": [
    "import pandas as pd\n"
   ]
  },
  {
   "cell_type": "code",
   "execution_count": 3,
   "id": "7924aa88",
   "metadata": {},
   "outputs": [
    {
     "data": {
      "text/html": [
       "<div>\n",
       "<style scoped>\n",
       "    .dataframe tbody tr th:only-of-type {\n",
       "        vertical-align: middle;\n",
       "    }\n",
       "\n",
       "    .dataframe tbody tr th {\n",
       "        vertical-align: top;\n",
       "    }\n",
       "\n",
       "    .dataframe thead th {\n",
       "        text-align: right;\n",
       "    }\n",
       "</style>\n",
       "<table border=\"1\" class=\"dataframe\">\n",
       "  <thead>\n",
       "    <tr style=\"text-align: right;\">\n",
       "      <th></th>\n",
       "      <th>المنطقة</th>\n",
       "      <th>السنة</th>\n",
       "      <th>الشهر</th>\n",
       "      <th>رقم الحساب</th>\n",
       "      <th>اسم الزبون</th>\n",
       "      <th>اسم المنتج</th>\n",
       "      <th>وصف التعبئة</th>\n",
       "      <th>الكمية باللتر</th>\n",
       "      <th>Unnamed: 8</th>\n",
       "      <th>Unnamed: 9</th>\n",
       "      <th>...</th>\n",
       "      <th>Unnamed: 18</th>\n",
       "      <th>Unnamed: 19</th>\n",
       "      <th>Unnamed: 20</th>\n",
       "      <th>Unnamed: 21</th>\n",
       "      <th>Unnamed: 22</th>\n",
       "      <th>Unnamed: 23</th>\n",
       "      <th>Unnamed: 24</th>\n",
       "      <th>Unnamed: 25</th>\n",
       "      <th>Unnamed: 26</th>\n",
       "      <th>Unnamed: 27</th>\n",
       "    </tr>\n",
       "  </thead>\n",
       "  <tbody>\n",
       "    <tr>\n",
       "      <th>0</th>\n",
       "      <td>1.0</td>\n",
       "      <td>2020.0</td>\n",
       "      <td>1.0</td>\n",
       "      <td>170003.0</td>\n",
       "      <td>محطة كهرباءغرب طرابلس</td>\n",
       "      <td>وقود الديزل</td>\n",
       "      <td>سائب/لتر</td>\n",
       "      <td>10089000</td>\n",
       "      <td>NaN</td>\n",
       "      <td>NaN</td>\n",
       "      <td>...</td>\n",
       "      <td>NaN</td>\n",
       "      <td>NaN</td>\n",
       "      <td>NaN</td>\n",
       "      <td>NaN</td>\n",
       "      <td>NaN</td>\n",
       "      <td>NaN</td>\n",
       "      <td>NaN</td>\n",
       "      <td>NaN</td>\n",
       "      <td>NaN</td>\n",
       "      <td>NaN</td>\n",
       "    </tr>\n",
       "    <tr>\n",
       "      <th>1</th>\n",
       "      <td>1.0</td>\n",
       "      <td>2020.0</td>\n",
       "      <td>1.0</td>\n",
       "      <td>170127.0</td>\n",
       "      <td>محطةكهرباء مصراتةالغازية</td>\n",
       "      <td>وقود الديزل</td>\n",
       "      <td>سائب/لتر</td>\n",
       "      <td>7205000</td>\n",
       "      <td>NaN</td>\n",
       "      <td>NaN</td>\n",
       "      <td>...</td>\n",
       "      <td>NaN</td>\n",
       "      <td>NaN</td>\n",
       "      <td>NaN</td>\n",
       "      <td>NaN</td>\n",
       "      <td>NaN</td>\n",
       "      <td>NaN</td>\n",
       "      <td>NaN</td>\n",
       "      <td>NaN</td>\n",
       "      <td>NaN</td>\n",
       "      <td>NaN</td>\n",
       "    </tr>\n",
       "    <tr>\n",
       "      <th>2</th>\n",
       "      <td>1.0</td>\n",
       "      <td>2020.0</td>\n",
       "      <td>1.0</td>\n",
       "      <td>170151.0</td>\n",
       "      <td>محطةكهرباءالخليج البخارية</td>\n",
       "      <td>وقود الديزل</td>\n",
       "      <td>سائب/لتر</td>\n",
       "      <td>35484106</td>\n",
       "      <td>NaN</td>\n",
       "      <td>NaN</td>\n",
       "      <td>...</td>\n",
       "      <td>NaN</td>\n",
       "      <td>NaN</td>\n",
       "      <td>NaN</td>\n",
       "      <td>NaN</td>\n",
       "      <td>NaN</td>\n",
       "      <td>NaN</td>\n",
       "      <td>NaN</td>\n",
       "      <td>NaN</td>\n",
       "      <td>NaN</td>\n",
       "      <td>NaN</td>\n",
       "    </tr>\n",
       "    <tr>\n",
       "      <th>3</th>\n",
       "      <td>1.0</td>\n",
       "      <td>2020.0</td>\n",
       "      <td>1.0</td>\n",
       "      <td>170216.0</td>\n",
       "      <td>محطةكهرباءالزاوية الغازية</td>\n",
       "      <td>وقود الديزل</td>\n",
       "      <td>سائب/لتر</td>\n",
       "      <td>49367000</td>\n",
       "      <td>NaN</td>\n",
       "      <td>NaN</td>\n",
       "      <td>...</td>\n",
       "      <td>NaN</td>\n",
       "      <td>NaN</td>\n",
       "      <td>NaN</td>\n",
       "      <td>NaN</td>\n",
       "      <td>NaN</td>\n",
       "      <td>NaN</td>\n",
       "      <td>NaN</td>\n",
       "      <td>NaN</td>\n",
       "      <td>NaN</td>\n",
       "      <td>NaN</td>\n",
       "    </tr>\n",
       "    <tr>\n",
       "      <th>4</th>\n",
       "      <td>1.0</td>\n",
       "      <td>2020.0</td>\n",
       "      <td>1.0</td>\n",
       "      <td>170240.0</td>\n",
       "      <td>محطةكهرباءحى الجامعة/غ</td>\n",
       "      <td>وقود الديزل</td>\n",
       "      <td>سائب/لتر</td>\n",
       "      <td>2600000</td>\n",
       "      <td>NaN</td>\n",
       "      <td>NaN</td>\n",
       "      <td>...</td>\n",
       "      <td>NaN</td>\n",
       "      <td>NaN</td>\n",
       "      <td>NaN</td>\n",
       "      <td>NaN</td>\n",
       "      <td>NaN</td>\n",
       "      <td>NaN</td>\n",
       "      <td>NaN</td>\n",
       "      <td>NaN</td>\n",
       "      <td>NaN</td>\n",
       "      <td>NaN</td>\n",
       "    </tr>\n",
       "    <tr>\n",
       "      <th>...</th>\n",
       "      <td>...</td>\n",
       "      <td>...</td>\n",
       "      <td>...</td>\n",
       "      <td>...</td>\n",
       "      <td>...</td>\n",
       "      <td>...</td>\n",
       "      <td>...</td>\n",
       "      <td>...</td>\n",
       "      <td>...</td>\n",
       "      <td>...</td>\n",
       "      <td>...</td>\n",
       "      <td>...</td>\n",
       "      <td>...</td>\n",
       "      <td>...</td>\n",
       "      <td>...</td>\n",
       "      <td>...</td>\n",
       "      <td>...</td>\n",
       "      <td>...</td>\n",
       "      <td>...</td>\n",
       "      <td>...</td>\n",
       "      <td>...</td>\n",
       "    </tr>\n",
       "    <tr>\n",
       "      <th>803</th>\n",
       "      <td>NaN</td>\n",
       "      <td>2024.0</td>\n",
       "      <td>12.0</td>\n",
       "      <td>270121.0</td>\n",
       "      <td>م.كهرباء شمال بنغازى</td>\n",
       "      <td>وقود الديزل</td>\n",
       "      <td>سائب/لتر</td>\n",
       "      <td>30225364</td>\n",
       "      <td>NaN</td>\n",
       "      <td>NaN</td>\n",
       "      <td>...</td>\n",
       "      <td>NaN</td>\n",
       "      <td>NaN</td>\n",
       "      <td>NaN</td>\n",
       "      <td>NaN</td>\n",
       "      <td>NaN</td>\n",
       "      <td>NaN</td>\n",
       "      <td>NaN</td>\n",
       "      <td>NaN</td>\n",
       "      <td>NaN</td>\n",
       "      <td>NaN</td>\n",
       "    </tr>\n",
       "    <tr>\n",
       "      <th>804</th>\n",
       "      <td>NaN</td>\n",
       "      <td>2024.0</td>\n",
       "      <td>12.0</td>\n",
       "      <td>270946.0</td>\n",
       "      <td>محطة كهرباء طبرق الغازية</td>\n",
       "      <td>وقود الديزل</td>\n",
       "      <td>سائب/لتر</td>\n",
       "      <td>57635985</td>\n",
       "      <td>NaN</td>\n",
       "      <td>NaN</td>\n",
       "      <td>...</td>\n",
       "      <td>NaN</td>\n",
       "      <td>NaN</td>\n",
       "      <td>NaN</td>\n",
       "      <td>NaN</td>\n",
       "      <td>NaN</td>\n",
       "      <td>NaN</td>\n",
       "      <td>NaN</td>\n",
       "      <td>NaN</td>\n",
       "      <td>NaN</td>\n",
       "      <td>NaN</td>\n",
       "    </tr>\n",
       "    <tr>\n",
       "      <th>805</th>\n",
       "      <td>NaN</td>\n",
       "      <td>2024.0</td>\n",
       "      <td>12.0</td>\n",
       "      <td>270970.0</td>\n",
       "      <td>م.كهرباء الكفره الغازيه</td>\n",
       "      <td>وقود الديزل</td>\n",
       "      <td>سائب/لتر</td>\n",
       "      <td>1170000</td>\n",
       "      <td>NaN</td>\n",
       "      <td>NaN</td>\n",
       "      <td>...</td>\n",
       "      <td>NaN</td>\n",
       "      <td>NaN</td>\n",
       "      <td>NaN</td>\n",
       "      <td>NaN</td>\n",
       "      <td>NaN</td>\n",
       "      <td>NaN</td>\n",
       "      <td>NaN</td>\n",
       "      <td>NaN</td>\n",
       "      <td>NaN</td>\n",
       "      <td>NaN</td>\n",
       "    </tr>\n",
       "    <tr>\n",
       "      <th>806</th>\n",
       "      <td>NaN</td>\n",
       "      <td>2024.0</td>\n",
       "      <td>12.0</td>\n",
       "      <td>270989.0</td>\n",
       "      <td>خدمات وقود.زيوت.م.مباشرة</td>\n",
       "      <td>وقود الديزل</td>\n",
       "      <td>سائب/لتر</td>\n",
       "      <td>20000</td>\n",
       "      <td>NaN</td>\n",
       "      <td>NaN</td>\n",
       "      <td>...</td>\n",
       "      <td>NaN</td>\n",
       "      <td>NaN</td>\n",
       "      <td>NaN</td>\n",
       "      <td>NaN</td>\n",
       "      <td>NaN</td>\n",
       "      <td>NaN</td>\n",
       "      <td>NaN</td>\n",
       "      <td>NaN</td>\n",
       "      <td>NaN</td>\n",
       "      <td>NaN</td>\n",
       "    </tr>\n",
       "    <tr>\n",
       "      <th>807</th>\n",
       "      <td>NaN</td>\n",
       "      <td>NaN</td>\n",
       "      <td>NaN</td>\n",
       "      <td>NaN</td>\n",
       "      <td>NaN</td>\n",
       "      <td>NaN</td>\n",
       "      <td>NaN</td>\n",
       "      <td>13359678121</td>\n",
       "      <td>NaN</td>\n",
       "      <td>NaN</td>\n",
       "      <td>...</td>\n",
       "      <td>NaN</td>\n",
       "      <td>NaN</td>\n",
       "      <td>NaN</td>\n",
       "      <td>NaN</td>\n",
       "      <td>NaN</td>\n",
       "      <td>NaN</td>\n",
       "      <td>NaN</td>\n",
       "      <td>NaN</td>\n",
       "      <td>NaN</td>\n",
       "      <td>NaN</td>\n",
       "    </tr>\n",
       "  </tbody>\n",
       "</table>\n",
       "<p>808 rows × 28 columns</p>\n",
       "</div>"
      ],
      "text/plain": [
       "     المنطقة   السنة  الشهر  رقم الحساب                 اسم الزبون  \\\n",
       "0        1.0  2020.0    1.0    170003.0      محطة كهرباءغرب طرابلس   \n",
       "1        1.0  2020.0    1.0    170127.0   محطةكهرباء مصراتةالغازية   \n",
       "2        1.0  2020.0    1.0    170151.0  محطةكهرباءالخليج البخارية   \n",
       "3        1.0  2020.0    1.0    170216.0  محطةكهرباءالزاوية الغازية   \n",
       "4        1.0  2020.0    1.0    170240.0     محطةكهرباءحى الجامعة/غ   \n",
       "..       ...     ...    ...         ...                        ...   \n",
       "803      NaN  2024.0   12.0    270121.0       م.كهرباء شمال بنغازى   \n",
       "804      NaN  2024.0   12.0    270946.0   محطة كهرباء طبرق الغازية   \n",
       "805      NaN  2024.0   12.0    270970.0    م.كهرباء الكفره الغازيه   \n",
       "806      NaN  2024.0   12.0    270989.0   خدمات وقود.زيوت.م.مباشرة   \n",
       "807      NaN     NaN    NaN         NaN                        NaN   \n",
       "\n",
       "                    اسم المنتج وصف التعبئة  الكمية باللتر  Unnamed: 8  \\\n",
       "0                  وقود الديزل    سائب/لتر       10089000         NaN   \n",
       "1                  وقود الديزل    سائب/لتر        7205000         NaN   \n",
       "2                  وقود الديزل    سائب/لتر       35484106         NaN   \n",
       "3                  وقود الديزل    سائب/لتر       49367000         NaN   \n",
       "4                  وقود الديزل    سائب/لتر        2600000         NaN   \n",
       "..                         ...         ...            ...         ...   \n",
       "803                وقود الديزل    سائب/لتر       30225364         NaN   \n",
       "804                وقود الديزل    سائب/لتر       57635985         NaN   \n",
       "805                وقود الديزل    سائب/لتر        1170000         NaN   \n",
       "806                وقود الديزل    سائب/لتر          20000         NaN   \n",
       "807                        NaN         NaN    13359678121         NaN   \n",
       "\n",
       "     Unnamed: 9  ...  Unnamed: 18  Unnamed: 19  Unnamed: 20  Unnamed: 21  \\\n",
       "0           NaN  ...          NaN          NaN          NaN          NaN   \n",
       "1           NaN  ...          NaN          NaN          NaN          NaN   \n",
       "2           NaN  ...          NaN          NaN          NaN          NaN   \n",
       "3           NaN  ...          NaN          NaN          NaN          NaN   \n",
       "4           NaN  ...          NaN          NaN          NaN          NaN   \n",
       "..          ...  ...          ...          ...          ...          ...   \n",
       "803         NaN  ...          NaN          NaN          NaN          NaN   \n",
       "804         NaN  ...          NaN          NaN          NaN          NaN   \n",
       "805         NaN  ...          NaN          NaN          NaN          NaN   \n",
       "806         NaN  ...          NaN          NaN          NaN          NaN   \n",
       "807         NaN  ...          NaN          NaN          NaN          NaN   \n",
       "\n",
       "     Unnamed: 22  Unnamed: 23  Unnamed: 24  Unnamed: 25  Unnamed: 26  \\\n",
       "0            NaN          NaN          NaN          NaN          NaN   \n",
       "1            NaN          NaN          NaN          NaN          NaN   \n",
       "2            NaN          NaN          NaN          NaN          NaN   \n",
       "3            NaN          NaN          NaN          NaN          NaN   \n",
       "4            NaN          NaN          NaN          NaN          NaN   \n",
       "..           ...          ...          ...          ...          ...   \n",
       "803          NaN          NaN          NaN          NaN          NaN   \n",
       "804          NaN          NaN          NaN          NaN          NaN   \n",
       "805          NaN          NaN          NaN          NaN          NaN   \n",
       "806          NaN          NaN          NaN          NaN          NaN   \n",
       "807          NaN          NaN          NaN          NaN          NaN   \n",
       "\n",
       "     Unnamed: 27  \n",
       "0            NaN  \n",
       "1            NaN  \n",
       "2            NaN  \n",
       "3            NaN  \n",
       "4            NaN  \n",
       "..           ...  \n",
       "803          NaN  \n",
       "804          NaN  \n",
       "805          NaN  \n",
       "806          NaN  \n",
       "807          NaN  \n",
       "\n",
       "[808 rows x 28 columns]"
      ]
     },
     "execution_count": 3,
     "metadata": {},
     "output_type": "execute_result"
    }
   ],
   "source": [
    "df=pd.read_excel(\"ديزل 20-24.xlsx\")\n",
    "df"
   ]
  },
  {
   "cell_type": "code",
   "execution_count": 4,
   "id": "958e0ffc",
   "metadata": {},
   "outputs": [
    {
     "name": "stdout",
     "output_type": "stream",
     "text": [
      "<class 'pandas.core.frame.DataFrame'>\n",
      "RangeIndex: 808 entries, 0 to 807\n",
      "Data columns (total 28 columns):\n",
      " #   Column         Non-Null Count  Dtype  \n",
      "---  ------         --------------  -----  \n",
      " 0   المنطقة        467 non-null    float64\n",
      " 1   السنة          807 non-null    float64\n",
      " 2   الشهر          807 non-null    float64\n",
      " 3   رقم الحساب     807 non-null    float64\n",
      " 4   اسم الزبون     807 non-null    object \n",
      " 5   اسم المنتج     807 non-null    object \n",
      " 6   وصف التعبئة    807 non-null    object \n",
      " 7   الكمية باللتر  808 non-null    int64  \n",
      " 8   Unnamed: 8     0 non-null      float64\n",
      " 9   Unnamed: 9     171 non-null    float64\n",
      " 10  Unnamed: 10    0 non-null      float64\n",
      " 11  Unnamed: 11    0 non-null      float64\n",
      " 12  Unnamed: 12    0 non-null      float64\n",
      " 13  2020           46 non-null     float64\n",
      " 14  Unnamed: 14    14 non-null     float64\n",
      " 15  Unnamed: 15    14 non-null     float64\n",
      " 16  Unnamed: 16    35 non-null     float64\n",
      " 17  Unnamed: 17    17 non-null     float64\n",
      " 18  Unnamed: 18    12 non-null     float64\n",
      " 19  Unnamed: 19    1 non-null      float64\n",
      " 20  Unnamed: 20    1 non-null      float64\n",
      " 21  Unnamed: 21    1 non-null      float64\n",
      " 22  Unnamed: 22    1 non-null      float64\n",
      " 23  Unnamed: 23    1 non-null      float64\n",
      " 24  Unnamed: 24    1 non-null      float64\n",
      " 25  Unnamed: 25    1 non-null      float64\n",
      " 26  Unnamed: 26    1 non-null      float64\n",
      " 27  Unnamed: 27    1 non-null      float64\n",
      "dtypes: float64(24), int64(1), object(3)\n",
      "memory usage: 176.9+ KB\n"
     ]
    }
   ],
   "source": [
    "df.info()"
   ]
  },
  {
   "cell_type": "code",
   "execution_count": 6,
   "id": "a79e1668",
   "metadata": {},
   "outputs": [],
   "source": [
    "cols_to_drop = [\n",
    "    8, 9, 10, 11, 12, 13, 14, 15, 16, 17, 18, 19, 20, 21, 22, 23, 24, 25, 26, 27\n",
    "]\n",
    "\n",
    "df = df.drop(df.columns[cols_to_drop], axis=1)\n"
   ]
  },
  {
   "cell_type": "code",
   "execution_count": 7,
   "id": "e6dde50b",
   "metadata": {},
   "outputs": [
    {
     "name": "stdout",
     "output_type": "stream",
     "text": [
      "<class 'pandas.core.frame.DataFrame'>\n",
      "RangeIndex: 808 entries, 0 to 807\n",
      "Data columns (total 8 columns):\n",
      " #   Column         Non-Null Count  Dtype  \n",
      "---  ------         --------------  -----  \n",
      " 0   المنطقة        467 non-null    float64\n",
      " 1   السنة          807 non-null    float64\n",
      " 2   الشهر          807 non-null    float64\n",
      " 3   رقم الحساب     807 non-null    float64\n",
      " 4   اسم الزبون     807 non-null    object \n",
      " 5   اسم المنتج     807 non-null    object \n",
      " 6   وصف التعبئة    807 non-null    object \n",
      " 7   الكمية باللتر  808 non-null    int64  \n",
      "dtypes: float64(4), int64(1), object(3)\n",
      "memory usage: 50.6+ KB\n"
     ]
    }
   ],
   "source": [
    "df.info()"
   ]
  },
  {
   "cell_type": "code",
   "execution_count": 10,
   "id": "3084a7ca",
   "metadata": {},
   "outputs": [
    {
     "data": {
      "text/plain": [
       "341"
      ]
     },
     "execution_count": 10,
     "metadata": {},
     "output_type": "execute_result"
    }
   ],
   "source": [
    "df[\"المنطقة\"].isnull().sum()"
   ]
  },
  {
   "cell_type": "code",
   "execution_count": 11,
   "id": "e529931b",
   "metadata": {},
   "outputs": [],
   "source": [
    "df = df.dropna(subset=['السنة', 'الشهر', 'رقم الحساب', 'اسم الزبون', 'اسم المنتج', 'وصف التعبئة'])\n"
   ]
  },
  {
   "cell_type": "code",
   "execution_count": 15,
   "id": "29efb130",
   "metadata": {},
   "outputs": [],
   "source": [
    "import numpy as np\n",
    "\n",
    "# عدد الـ Unknown\n",
    "unknown_indices = df[df['المنطقة'] == 'Unknown'].index\n",
    "n_unknown = len(unknown_indices)\n",
    "\n",
    "# عدد القيم لكل منطقة\n",
    "regions = [1.0, 2.0]\n",
    "\n",
    "# وزعهم بالتساوي (متبادل)\n",
    "assigned_regions = np.tile(regions, int(np.ceil(n_unknown / len(regions))))[:n_unknown]\n",
    "\n",
    "# Shuffle عشان التوزيع يبقى عشوائي لو حابب\n",
    "np.random.shuffle(assigned_regions)\n",
    "\n",
    "# عيّن القيم الجديدة\n",
    "df.loc[unknown_indices, 'المنطقة'] = assigned_regions\n"
   ]
  },
  {
   "cell_type": "code",
   "execution_count": 16,
   "id": "409d1f8e",
   "metadata": {},
   "outputs": [
    {
     "name": "stdout",
     "output_type": "stream",
     "text": [
      "<class 'pandas.core.frame.DataFrame'>\n",
      "Index: 807 entries, 0 to 806\n",
      "Data columns (total 8 columns):\n",
      " #   Column         Non-Null Count  Dtype  \n",
      "---  ------         --------------  -----  \n",
      " 0   المنطقة        807 non-null    object \n",
      " 1   السنة          807 non-null    float64\n",
      " 2   الشهر          807 non-null    float64\n",
      " 3   رقم الحساب     807 non-null    float64\n",
      " 4   اسم الزبون     807 non-null    object \n",
      " 5   اسم المنتج     807 non-null    object \n",
      " 6   وصف التعبئة    807 non-null    object \n",
      " 7   الكمية باللتر  807 non-null    int64  \n",
      "dtypes: float64(3), int64(1), object(4)\n",
      "memory usage: 89.0+ KB\n"
     ]
    }
   ],
   "source": [
    "df.info()"
   ]
  },
  {
   "cell_type": "code",
   "execution_count": 17,
   "id": "35f13b98",
   "metadata": {},
   "outputs": [
    {
     "name": "stdout",
     "output_type": "stream",
     "text": [
      "المنطقة\n",
      "1.0    429\n",
      "2.0    378\n",
      "Name: count, dtype: int64\n"
     ]
    },
    {
     "data": {
      "image/png": "[encoded data removed]",
      "text/plain": [
       "<Figure size 1000x500 with 1 Axes>"
      ]
     },
     "metadata": {},
     "output_type": "display_data"
    }
   ],
   "source": [
    "import matplotlib.pyplot as plt\n",
    "\n",
    "# توزيع القيم وعدد تكرار كل منطقة\n",
    "value_counts = df['المنطقة'].value_counts(dropna=False)  # dropna=False علشان يظهر لك لو فيه نال أو Unknown\n",
    "\n",
    "print(value_counts)  # يطبعلك التوزيع كجدول\n",
    "\n",
    "# رسم باريتو (bar plot) لتوزيع المناطق\n",
    "plt.figure(figsize=(10,5))\n",
    "value_counts.plot(kind='bar')\n",
    "plt.title('توزيع المناطق')\n",
    "plt.xlabel('المنطقة')\n",
    "plt.ylabel('عدد الصفوف')\n",
    "plt.show()\n"
   ]
  },
  {
   "cell_type": "code",
   "execution_count": 18,
   "id": "d61a3f8a",
   "metadata": {},
   "outputs": [],
   "source": [
    "import pandas as pd\n",
    "import numpy as np\n",
    "from sklearn.model_selection import train_test_split\n",
    "from sklearn.preprocessing import LabelEncoder, StandardScaler\n",
    "from xgboost import XGBRegressor\n",
    "from sklearn.metrics import mean_squared_error, r2_score\n",
    "\n",
    "# ================\n",
    "# 1. Label Encoding للأعمدة النصية\n",
    "# ================\n",
    "label_cols = ['المنطقة', 'اسم الزبون', 'اسم المنتج', 'وصف التعبئة']\n",
    "\n",
    "label_encoders = {}\n",
    "for col in label_cols:\n",
    "    le = LabelEncoder()\n",
    "    df[col] = le.fit_transform(df[col])\n",
    "    label_encoders[col] = le"
   ]
  },
  {
   "cell_type": "code",
   "execution_count": 19,
   "id": "9c33d19c",
   "metadata": {},
   "outputs": [],
   "source": [
    "\n",
    "# ================\n",
    "# 2. Scaling للأعمدة الرقمية\n",
    "# ================\n",
    "numeric_cols = ['السنة', 'الشهر', 'رقم الحساب']\n",
    "\n",
    "scaler = StandardScaler()\n",
    "df[numeric_cols] = scaler.fit_transform(df[numeric_cols])\n",
    "\n",
    "# ================\n",
    "# 3. Train/Test Split\n",
    "# ================\n",
    "target_col = 'الكمية باللتر'\n",
    "feature_cols = [col for col in df.columns if col != target_col]\n",
    "\n",
    "X = df[feature_cols]\n",
    "y = df[target_col]\n",
    "\n",
    "X_train, X_test, y_train, y_test = train_test_split(\n",
    "    X, y, test_size=0.2, random_state=42\n",
    ")\n"
   ]
  },
  {
   "cell_type": "code",
   "execution_count": 21,
   "id": "2e622f76",
   "metadata": {},
   "outputs": [
    {
     "name": "stdout",
     "output_type": "stream",
     "text": [
      "RMSE: 9268346.82\n",
      "R2 Score: 0.79\n"
     ]
    }
   ],
   "source": [
    "\n",
    "# ================\n",
    "# 4. XGBoost Regression Model\n",
    "# ================\n",
    "model = XGBRegressor(\n",
    "    n_estimators=100,\n",
    "    max_depth=5,\n",
    "    learning_rate=0.1,\n",
    "    random_state=42\n",
    ")\n",
    "\n",
    "model.fit(X_train, y_train)\n",
    "\n",
    "# ================\n",
    "# 5. Evaluation\n",
    "# ================\n",
    "y_pred = model.predict(X_test)\n",
    "\n",
    "rmse = mean_squared_error(y_test, y_pred, squared=False)\n",
    "r2 = r2_score(y_test, y_pred)\n",
    "\n",
    "print(f'RMSE: {rmse:.2f}')\n",
    "print(f'R2 Score: {r2:.2f}')\n",
    "\n",
    " "
   ]
  },
  {
   "cell_type": "code",
   "execution_count": 22,
   "id": "9c19ed27",
   "metadata": {},
   "outputs": [
    {
     "name": "stdout",
     "output_type": "stream",
     "text": [
      "count    8.070000e+02\n",
      "mean     1.655474e+07\n",
      "std      2.319633e+07\n",
      "min      1.000000e+04\n",
      "25%      2.300000e+05\n",
      "50%      3.400000e+06\n",
      "75%      3.000000e+07\n",
      "max      1.150162e+08\n",
      "Name: الكمية باللتر, dtype: float64\n"
     ]
    }
   ],
   "source": [
    "print(df['الكمية باللتر'].describe())\n"
   ]
  },
  {
   "cell_type": "code",
   "execution_count": 24,
   "id": "bd8f1f58",
   "metadata": {},
   "outputs": [
    {
     "name": "stdout",
     "output_type": "stream",
     "text": [
      "384    115016250\n",
      "740    112356000\n",
      "576    111838945\n",
      "752    102757000\n",
      "724     98704000\n",
      "766     96220000\n",
      "313     91686400\n",
      "572     89726000\n",
      "557     89710000\n",
      "255     88919560\n",
      "Name: الكمية باللتر, dtype: int64\n"
     ]
    }
   ],
   "source": [
    "print(df['الكمية باللتر'].sort_values(ascending=False).head(10))\n"
   ]
  },
  {
   "cell_type": "code",
   "execution_count": 25,
   "id": "d9b2ec68",
   "metadata": {},
   "outputs": [
    {
     "data": {
      "image/png": "[encoded data removed]",
      "text/plain": [
       "<Figure size 800x400 with 1 Axes>"
      ]
     },
     "metadata": {},
     "output_type": "display_data"
    }
   ],
   "source": [
    "import matplotlib.pyplot as plt\n",
    "\n",
    "plt.figure(figsize=(8,4))\n",
    "plt.boxplot(df['الكمية باللتر'])\n",
    "plt.title('Boxplot of الكمية باللتر')\n",
    "plt.show()\n"
   ]
  },
  {
   "cell_type": "code",
   "execution_count": 26,
   "id": "a733ea11",
   "metadata": {},
   "outputs": [
    {
     "name": "stdout",
     "output_type": "stream",
     "text": [
      "عدد الصفوف قبل الحذف: 807\n",
      "عدد الصفوف بعد الحذف: 781\n"
     ]
    }
   ],
   "source": [
    "Q1 = df['الكمية باللتر'].quantile(0.25)\n",
    "Q3 = df['الكمية باللتر'].quantile(0.75)\n",
    "IQR = Q3 - Q1\n",
    "\n",
    "lower_bound = Q1 - 1.5 * IQR\n",
    "upper_bound = Q3 + 1.5 * IQR\n",
    "\n",
    "# شيل القيم اللي برا الرينج ده\n",
    "df_no_outliers = df[(df['الكمية باللتر'] >= lower_bound) & (df['الكمية باللتر'] <= upper_bound)]\n",
    "\n",
    "print(f\"عدد الصفوف قبل الحذف: {df.shape[0]}\")\n",
    "print(f\"عدد الصفوف بعد الحذف: {df_no_outliers.shape[0]}\")\n"
   ]
  },
  {
   "cell_type": "code",
   "execution_count": 27,
   "id": "e67eb75f",
   "metadata": {},
   "outputs": [],
   "source": [
    "df['الكمية باللتر_capped'] = df['الكمية باللتر'].clip(lower=lower_bound, upper=upper_bound)\n"
   ]
  },
  {
   "cell_type": "code",
   "execution_count": 28,
   "id": "6cdb5963",
   "metadata": {},
   "outputs": [
    {
     "data": {
      "image/png": "[encoded data removed]",
      "text/plain": [
       "<Figure size 1400x500 with 2 Axes>"
      ]
     },
     "metadata": {},
     "output_type": "display_data"
    }
   ],
   "source": [
    "plt.figure(figsize=(14,5))\n",
    "plt.subplot(1,2,1)\n",
    "plt.boxplot(df['الكمية باللتر'])\n",
    "plt.title('قبل المعالجة')\n",
    "\n",
    "plt.subplot(1,2,2)\n",
    "plt.boxplot(df_no_outliers['الكمية باللتر'])\n",
    "plt.title('بعد حذف الأوتلايرز')\n",
    "plt.show()\n"
   ]
  },
  {
   "cell_type": "code",
   "execution_count": 31,
   "id": "26179cd5",
   "metadata": {},
   "outputs": [
    {
     "name": "stdout",
     "output_type": "stream",
     "text": [
      "     المنطقة     السنة     الشهر  رقم الحساب  اسم الزبون  اسم المنتج  \\\n",
      "77         1 -1.505725  0.160300    1.187969           1           0   \n",
      "147        0 -0.782439 -1.591784   -0.837501           9           0   \n",
      "201        0 -0.782439 -0.423728   -0.837501           9           0   \n",
      "255        0 -0.782439  0.744328   -0.837501           9           0   \n",
      "274        0 -0.782439  1.328356   -0.838981          22           0   \n",
      "313        0 -0.059153 -1.299770   -0.837501           9           0   \n",
      "384        0 -0.059153  0.160300   -0.837501           9           0   \n",
      "490        1  0.664132 -1.299770   -0.837501           9           0   \n",
      "531        0  0.664132 -0.423728   -0.837664          23           0   \n",
      "557        1  0.664132  0.160300   -0.841982           2           0   \n",
      "560        1  0.664132  0.160300   -0.837664          23           0   \n",
      "561        0  0.664132  0.160300   -0.837501           9           0   \n",
      "572        1  0.664132  0.452314   -0.841982           2           0   \n",
      "575        0  0.664132  0.452314   -0.837664          23           0   \n",
      "576        1  0.664132  0.452314   -0.837501           9           0   \n",
      "587        1  0.664132  0.744328   -0.841982           2           0   \n",
      "604        1  0.664132  1.036342   -0.838981          22           0   \n",
      "724        0  1.387418  0.160300   -0.841982           2           0   \n",
      "729        0  1.387418  0.160300   -0.837664          23           0   \n",
      "730        1  1.387418  0.160300   -0.837501           9           0   \n",
      "740        1  1.387418  0.452314   -0.841982           2           0   \n",
      "743        0  1.387418  0.452314   -0.837664          23           0   \n",
      "752        0  1.387418  0.744328   -0.841982           2           0   \n",
      "756        0  1.387418  0.744328   -0.837664          23           0   \n",
      "766        0  1.387418  1.036342   -0.841982           2           0   \n",
      "770        0  1.387418  1.036342   -0.837664          23           0   \n",
      "\n",
      "     وصف التعبئة  الكمية باللتر  log_الكمية  الكمية باللتر_capped  \n",
      "77             0       83735285   18.243171              74655000  \n",
      "147            0       76155000   18.148281              74655000  \n",
      "201            0       77112600   18.160777              74655000  \n",
      "255            0       88919560   18.303243              74655000  \n",
      "274            0       77778822   18.169380              74655000  \n",
      "313            0       91686400   18.333885              74655000  \n",
      "384            0      115016250   18.560584              74655000  \n",
      "490            0       77559950   18.166562              74655000  \n",
      "531            0       76509000   18.152919              74655000  \n",
      "557            0       89710000   18.312093              74655000  \n",
      "560            0       78830000   18.182804              74655000  \n",
      "561            0       78057220   18.172953              74655000  \n",
      "572            0       89726000   18.312271              74655000  \n",
      "575            0       75000000   18.132999              74655000  \n",
      "576            0      111838945   18.532570              74655000  \n",
      "587            0       78631000   18.180277              74655000  \n",
      "604            0       77461606   18.165293              74655000  \n",
      "724            0       98704000   18.407636              74655000  \n",
      "729            0       83000000   18.234351              74655000  \n",
      "730            0       76010105   18.146377              74655000  \n",
      "740            0      112356000   18.537183              74655000  \n",
      "743            0       83398000   18.239135              74655000  \n",
      "752            0      102757000   18.447878              74655000  \n",
      "756            0       85000000   18.258162              74655000  \n",
      "766            0       96220000   18.382148              74655000  \n",
      "770            0       77738000   18.168855              74655000  \n"
     ]
    }
   ],
   "source": [
    "df_no_outliers = df[(df['الكمية باللتر'] >= lower_bound) & (df['الكمية باللتر'] <= upper_bound)]\n",
    "# القيم اللي اتشالت\n",
    "removed_outliers = df[~((df['الكمية باللتر'] >= lower_bound) & (df['الكمية باللتر'] <= upper_bound))]\n",
    "print(removed_outliers)\n"
   ]
  },
  {
   "cell_type": "code",
   "execution_count": 32,
   "id": "2ca35e2f",
   "metadata": {},
   "outputs": [
    {
     "data": {
      "image/png": "[encoded data removed]",
      "text/plain": [
       "<Figure size 1000x500 with 1 Axes>"
      ]
     },
     "metadata": {},
     "output_type": "display_data"
    }
   ],
   "source": [
    "import matplotlib.pyplot as plt\n",
    "\n",
    "plt.figure(figsize=(10,5))\n",
    "plt.hist(df['الكمية باللتر'], bins=50, alpha=0.7, label='كل البيانات')\n",
    "plt.hist(removed_outliers['الكمية باللتر'], bins=10, alpha=0.7, label='الأوتلايرز فقط', color='red')\n",
    "plt.legend()\n",
    "plt.xlabel('الكمية باللتر')\n",
    "plt.ylabel('عدد الصفوف')\n",
    "plt.title('توزيع الكمية باللتر مع الأوتلايرز')\n",
    "plt.show()\n"
   ]
  },
  {
   "cell_type": "code",
   "execution_count": 60,
   "id": "35b38d65",
   "metadata": {},
   "outputs": [
    {
     "name": "stdout",
     "output_type": "stream",
     "text": [
      "\n",
      "نتيجة التوقع أو الاسترجاع:\n",
      "  المنطقة  السنة  الشهر  رقم الحساب                 اسم الزبون   اسم المنتج  \\\n",
      "0       1   2020      1      170003      محطة كهرباءغرب طرابلس  وقود الديزل   \n",
      "1       1   2020      1      170127   محطةكهرباء مصراتةالغازية  وقود الديزل   \n",
      "2       1   2020      1      170151  محطةكهرباءالخليج البخارية  وقود الديزل   \n",
      "3       1   2020      1      170240     محطةكهرباءحى الجامعة/غ  وقود الديزل   \n",
      "\n",
      "  وصف التعبئة  Predicted_الكمية_باللتر  \n",
      "0    سائب/لتر                5718648.5  \n",
      "1    سائب/لتر                5379792.5  \n",
      "2    سائب/لتر               12796846.0  \n",
      "3    سائب/لتر                2233210.5  \n"
     ]
    },
    {
     "name": "stderr",
     "output_type": "stream",
     "text": [
      "c:\\Users\\dell\\AppData\\Local\\Programs\\Python\\Python311\\Lib\\site-packages\\sklearn\\base.py:465: UserWarning: X does not have valid feature names, but StandardScaler was fitted with feature names\n",
      "  warnings.warn(\n",
      "c:\\Users\\dell\\AppData\\Local\\Programs\\Python\\Python311\\Lib\\site-packages\\sklearn\\base.py:465: UserWarning: X does not have valid feature names, but StandardScaler was fitted with feature names\n",
      "  warnings.warn(\n",
      "c:\\Users\\dell\\AppData\\Local\\Programs\\Python\\Python311\\Lib\\site-packages\\sklearn\\base.py:465: UserWarning: X does not have valid feature names, but StandardScaler was fitted with feature names\n",
      "  warnings.warn(\n",
      "c:\\Users\\dell\\AppData\\Local\\Programs\\Python\\Python311\\Lib\\site-packages\\sklearn\\base.py:465: UserWarning: X does not have valid feature names, but StandardScaler was fitted with feature names\n",
      "  warnings.warn(\n"
     ]
    }
   ],
   "source": [
    "import pandas as pd\n",
    "import numpy as np\n",
    "from sklearn.preprocessing import LabelEncoder, StandardScaler\n",
    "from sklearn.model_selection import train_test_split\n",
    "from xgboost import XGBRegressor\n",
    "from sklearn.metrics import mean_squared_error, r2_score\n",
    "import matplotlib.pyplot as plt\n",
    "import xgboost as xgb\n",
    "\n",
    "# ===============================\n",
    "# 1. تحميل الداتا الأصلية\n",
    "# ===============================\n",
    "orig_df = pd.read_excel('ديزل 20-24.xlsx')\n",
    "\n",
    "# تنظيف البيانات الأصلية من الفراغات الزايدة\n",
    "for col in ['المنطقة', 'اسم الزبون', 'اسم المنتج', 'وصف التعبئة']:\n",
    "    orig_df[col] = orig_df[col].astype(str).str.strip()\n",
    "\n",
    "# ===============================\n",
    "# 2. تجهيز داتا التدريب\n",
    "# ===============================\n",
    "df = orig_df.copy()\n",
    "Q1 = df['الكمية باللتر'].quantile(0.25)\n",
    "Q3 = df['الكمية باللتر'].quantile(0.75)\n",
    "IQR = Q3 - Q1\n",
    "lower_bound = Q1 - 1.5 * IQR\n",
    "upper_bound = Q3 + 1.5 * IQR\n",
    "df_clean = df[(df['الكمية باللتر'] >= lower_bound) & (df['الكمية باللتر'] <= upper_bound)].copy()\n",
    "\n",
    "df_clean['الربع'] = ((df_clean['الشهر'] - 1) // 3 + 1).astype(int)\n",
    "df_clean['موسم_الصيف'] = df_clean['الشهر'].apply(lambda x: 1 if x in [6, 7, 8, 9] else 0)\n",
    "df_clean['تكرار_العميل'] = df_clean.groupby('اسم الزبون')['اسم الزبون'].transform('count')\n",
    "df_clean['تكرار_المنتج'] = df_clean.groupby('اسم المنتج')['اسم المنتج'].transform('count')\n",
    "top_clients = df_clean['اسم الزبون'].value_counts().nlargest(10).index\n",
    "df_clean['العميل_Top'] = df_clean['اسم الزبون'].apply(lambda x: x if x in top_clients else 'Other')\n",
    "df_clean = df_clean.sort_values(['اسم الزبون', 'السنة', 'الشهر'])\n",
    "df_clean['كمية_سابقة'] = df_clean.groupby('اسم الزبون')['الكمية باللتر'].shift(1)\n",
    "df_clean['log_كمية_سابقة'] = np.log1p(df_clean['كمية_سابقة'])\n",
    "df_clean['log_كمية_سابقة'] = df_clean['log_كمية_سابقة'].fillna(df_clean['log_كمية_سابقة'].mean())\n",
    "\n",
    "# ترميز الأع,مدة النصية\n",
    "label_cols = ['المنطقة', 'اسم المنتج', 'وصف التعبئة', 'العميل_Top']\n",
    "label_encoders = {}\n",
    "for col in label_cols:\n",
    "    df_clean[col] = df_clean[col].astype(str).str.strip()\n",
    "    le = LabelEncoder()\n",
    "    df_clean[col] = le.fit_transform(df_clean[col])\n",
    "    label_encoders[col] = le\n",
    "\n",
    "# Scaling للأعمدة الرقمية\n",
    "numeric_cols = [\n",
    "    'السنة', 'الشهر', 'رقم الحساب', 'الربع', 'تكرار_العميل',\n",
    "    'تكرار_المنتج', 'log_كمية_سابقة'\n",
    "]\n",
    "scaler = StandardScaler()\n",
    "df_clean[numeric_cols] = scaler.fit_transform(df_clean[numeric_cols])\n",
    "\n",
    "# تحديد الفيتشرز والتارجت\n",
    "target_col = 'الكمية باللتر'\n",
    "feature_cols = [\n",
    "    'المنطقة', 'اسم المنتج', 'وصف التعبئة', 'العميل_Top',\n",
    "    'السنة', 'الشهر', 'رقم الحساب', 'الربع', 'موسم_الصيف',\n",
    "    'تكرار_العميل', 'تكرار_المنتج', 'log_كمية_سابقة'\n",
    "]\n",
    "\n",
    "X = df_clean[feature_cols]\n",
    "y = df_clean[target_col]\n",
    "\n",
    "# تقسيم البيانات\n",
    "X_train, X_test, y_train, y_test = train_test_split(\n",
    "    X, y, test_size=0.2, random_state=42\n",
    ")\n",
    "\n",
    "# تدريب النموذج\n",
    "model = XGBRegressor(\n",
    "    n_estimators=150,\n",
    "    max_depth=5,\n",
    "    learning_rate=0.05,\n",
    "    random_state=42,\n",
    "    reg_alpha=1.0,\n",
    "    reg_lambda=1.0\n",
    ")\n",
    "model.fit(X_train, y_train)\n",
    "\n",
    "# ===============================\n",
    "# 3. دالة التحقق: استرجاع أم توقع\n",
    "# ===============================\n",
    "def retrieve_or_predict(row, orig_df, model, label_encoders, scaler, feature_cols, numeric_cols, top_clients, df_clean):\n",
    "    # تنظيف الصف المدخل\n",
    "    row = row.copy()\n",
    "    for col in ['المنطقة', 'اسم الزبون', 'اسم المنتج', 'وصف التعبئة']:\n",
    "        row[col] = str(row[col]).strip()\n",
    "\n",
    "    # تحويل الأعمدة الرقمية إلى الصيغة الصحيحة\n",
    "    row['السنة'] = int(row['السنة'])\n",
    "    row['الشهر'] = int(row['الشهر'])\n",
    "    row['رقم الحساب'] = int(row['رقم الحساب'])\n",
    "\n",
    "    # البحث في الداتا الأصلية\n",
    "    lookup_cols = ['المنطقة', 'السنة', 'الشهر', 'رقم الحساب', 'اسم الزبون', 'اسم المنتج', 'وصف التعبئة']\n",
    "    matched = orig_df\n",
    "    for col in lookup_cols:\n",
    "        matched = matched[matched[col] == row[col]]\n",
    "\n",
    "    if not matched.empty:\n",
    "        # استرجاع القيمة الفعلية إذا وجدت\n",
    "        return float(matched.iloc[0]['الكمية باللتر'])\n",
    "    else:\n",
    "        # إعداد الفيتشرز للتوقع\n",
    "        tmp = row.copy()\n",
    "        tmp['الربع'] = ((tmp['الشهر'] - 1) // 3 + 1)\n",
    "        tmp['موسم_الصيف'] = 1 if tmp['الشهر'] in [6, 7, 8, 9] else 0\n",
    "        tmp['تكرار_العميل'] = df_clean['اسم الزبون'].value_counts().get(tmp['اسم الزبون'], 1)\n",
    "        tmp['تكرار_المنتج'] = df_clean['اسم المنتج'].value_counts().get(tmp['اسم المنتج'], 1)\n",
    "        tmp['العميل_Top'] = tmp['اسم الزبون'] if tmp['اسم الزبون'] in top_clients else 'Other'\n",
    "\n",
    "        # تعيين قيمة افتراضية لـ log_كمية_سابقة\n",
    "        tmp['log_كمية_سابقة'] = df_clean['log_كمية_سابقة'].mean()\n",
    "\n",
    "        # ترميز الأعمدة النصية\n",
    "        for col in label_cols:\n",
    "            le = label_encoders[col]\n",
    "            if tmp[col] not in le.classes_ and 'Other' in le.classes_:\n",
    "                tmp[col] = 'Other'\n",
    "            elif tmp[col] not in le.classes_:\n",
    "                tmp[col] = le.classes_[0]\n",
    "            tmp[col] = le.transform([str(tmp[col])])[0]\n",
    "\n",
    "        # تحويل الأعمدة الرقمية إلى float\n",
    "        for col in numeric_cols:\n",
    "            tmp[col] = float(tmp[col])\n",
    "\n",
    "        # Scaling للأعمدة الرقمية\n",
    "        tmp_arr = np.array([tmp[col] for col in numeric_cols]).reshape(1, -1)\n",
    "        tmp_scaled = scaler.transform(tmp_arr)[0]\n",
    "        for i, col in enumerate(numeric_cols):\n",
    "            tmp[col] = tmp_scaled[i]\n",
    "\n",
    "        # تجهيز DataFrame للتوقع\n",
    "        tmp_X = pd.DataFrame([tmp])[feature_cols]\n",
    "        return float(model.predict(tmp_X)[0])\n",
    "\n",
    "# ===============================\n",
    "# 4. بيانات جديدة\n",
    "# ===============================\n",
    "new_data = pd.DataFrame([\n",
    "    [1, 2020, 1, 170003, 'محطة كهرباءغرب طرابلس', 'وقود الديزل', 'سائب/لتر'],\n",
    "    [1, 2020, 1, 170127, 'محطةكهرباء مصراتةالغازية', 'وقود الديزل', 'سائب/لتر'],\n",
    "    [1, 2020, 1, 170151, 'محطةكهرباءالخليج البخارية', 'وقود الديزل', 'سائب/لتر'],\n",
    "    [1, 2020, 1, 170240, 'محطةكهرباءحى الجامعة/غ', 'وقود الديزل', 'سائب/لتر']\n",
    "], columns=['المنطقة', 'السنة', 'الشهر', 'رقم الحساب', 'اسم الزبون', 'اسم المنتج', 'وصف التعبئة'])\n",
    "\n",
    "# تنظيف البيانات الجديدة\n",
    "for col in ['المنطقة', 'اسم الزبون', 'اسم المنتج', 'وصف التعبئة']:\n",
    "    new_data[col] = new_data[col].astype(str).str.strip()\n",
    "\n",
    "# ===============================\n",
    "# 5. تطبيق الاسترجاع أو التوقع\n",
    "# ===============================\n",
    "predictions = []\n",
    "for idx, row in new_data.iterrows():\n",
    "    pred = retrieve_or_predict(\n",
    "        row,\n",
    "        orig_df,\n",
    "        model,\n",
    "        label_encoders,\n",
    "        scaler,\n",
    "        feature_cols,\n",
    "        numeric_cols,\n",
    "        top_clients,\n",
    "        df_clean\n",
    "    )\n",
    "    predictions.append(pred)\n",
    "\n",
    "new_data['Predicted_الكمية_باللتر'] = predictions\n",
    "\n",
    "# طباعة النتائج\n",
    "print(\"\\nنتيجة التوقع أو الاسترجاع:\")\n",
    "print(new_data[['المنطقة', 'السنة', 'الشهر', 'رقم الحساب', 'اسم الزبون', 'اسم المنتج', 'وصف التعبئة', 'Predicted_الكمية_باللتر']])"
   ]
  },
  {
   "cell_type": "code",
   "execution_count": null,
   "id": "97c78c79",
   "metadata": {},
   "outputs": [],
   "source": []
  },
  {
   "cell_type": "code",
   "execution_count": null,
   "id": "078c432c",
   "metadata": {},
   "outputs": [],
   "source": []
  },
  {
   "cell_type": "code",
   "execution_count": null,
   "id": "8ef4b8b5",
   "metadata": {},
   "outputs": [],
   "source": []
  },
  {
   "cell_type": "code",
   "execution_count": null,
   "id": "90c4cab6",
   "metadata": {},
   "outputs": [],
   "source": []
  },
  {
   "cell_type": "code",
   "execution_count": null,
   "id": "a30c9112",
   "metadata": {},
   "outputs": [],
   "source": []
  },
  {
   "cell_type": "code",
   "execution_count": null,
   "id": "1bcab5a4",
   "metadata": {},
   "outputs": [],
   "source": []
  },
  {
   "cell_type": "code",
   "execution_count": null,
   "id": "64a182ce",
   "metadata": {},
   "outputs": [],
   "source": []
  },
  {
   "cell_type": "code",
   "execution_count": null,
   "id": "7c739e6e",
   "metadata": {},
   "outputs": [],
   "source": []
  },
  {
   "cell_type": "code",
   "execution_count": null,
   "id": "1ae4be27",
   "metadata": {},
   "outputs": [],
   "source": []
  },
  {
   "cell_type": "code",
   "execution_count": null,
   "id": "f27e6dcd",
   "metadata": {},
   "outputs": [],
   "source": []
  },
  {
   "cell_type": "code",
   "execution_count": null,
   "id": "79324a55",
   "metadata": {},
   "outputs": [],
   "source": []
  },
  {
   "cell_type": "code",
   "execution_count": null,
   "id": "e988a9b2",
   "metadata": {},
   "outputs": [],
   "source": []
  },
  {
   "cell_type": "code",
   "execution_count": null,
   "id": "ab77865a",
   "metadata": {},
   "outputs": [],
   "source": []
  },
  {
   "cell_type": "code",
   "execution_count": null,
   "id": "d02fd857",
   "metadata": {},
   "outputs": [],
   "source": []
  },
  {
   "cell_type": "code",
   "execution_count": null,
   "id": "7c323b04",
   "metadata": {},
   "outputs": [],
   "source": []
  },
  {
   "cell_type": "code",
   "execution_count": null,
   "id": "b78dbc3a",
   "metadata": {},
   "outputs": [],
   "source": []
  },
  {
   "cell_type": "code",
   "execution_count": null,
   "id": "e9f6d3be",
   "metadata": {},
   "outputs": [],
   "source": []
  },
  {
   "cell_type": "code",
   "execution_count": null,
   "id": "0d7e1a62",
   "metadata": {},
   "outputs": [],
   "source": []
  },
  {
   "cell_type": "code",
   "execution_count": null,
   "id": "01746d9d",
   "metadata": {},
   "outputs": [],
   "source": []
  },
  {
   "cell_type": "code",
   "execution_count": null,
   "id": "81d7cbdb",
   "metadata": {},
   "outputs": [],
   "source": []
  },
  {
   "cell_type": "code",
   "execution_count": null,
   "id": "3935f27d",
   "metadata": {},
   "outputs": [],
   "source": []
  },
  {
   "cell_type": "code",
   "execution_count": null,
   "id": "d92b3947",
   "metadata": {},
   "outputs": [],
   "source": []
  },
  {
   "cell_type": "code",
   "execution_count": null,
   "id": "4535c4aa",
   "metadata": {},
   "outputs": [],
   "source": []
  },
  {
   "cell_type": "code",
   "execution_count": null,
   "id": "414603c8",
   "metadata": {},
   "outputs": [],
   "source": []
  },
  {
   "cell_type": "code",
   "execution_count": null,
   "id": "1854d749",
   "metadata": {},
   "outputs": [],
   "source": []
  },
  {
   "cell_type": "code",
   "execution_count": null,
   "id": "7fae5a20",
   "metadata": {},
   "outputs": [],
   "source": []
  },
  {
   "cell_type": "code",
   "execution_count": null,
   "id": "2416ecde",
   "metadata": {},
   "outputs": [],
   "source": []
  },
  {
   "cell_type": "code",
   "execution_count": null,
   "id": "dabd1ad9",
   "metadata": {},
   "outputs": [],
   "source": []
  },
  {
   "cell_type": "code",
   "execution_count": null,
   "id": "7b0a093f",
   "metadata": {},
   "outputs": [],
   "source": []
  },
  {
   "cell_type": "code",
   "execution_count": null,
   "id": "8278c874",
   "metadata": {},
   "outputs": [],
   "source": []
  },
  {
   "cell_type": "code",
   "execution_count": null,
   "id": "986f7353",
   "metadata": {},
   "outputs": [],
   "source": []
  },
  {
   "cell_type": "code",
   "execution_count": null,
   "id": "a0b7af2d",
   "metadata": {},
   "outputs": [],
   "source": []
  },
  {
   "cell_type": "code",
   "execution_count": null,
   "id": "65d14c4c",
   "metadata": {},
   "outputs": [],
   "source": []
  },
  {
   "cell_type": "code",
   "execution_count": null,
   "id": "73572ac7",
   "metadata": {},
   "outputs": [],
   "source": []
  },
  {
   "cell_type": "code",
   "execution_count": null,
   "id": "7ace300b",
   "metadata": {},
   "outputs": [],
   "source": []
  },
  {
   "cell_type": "code",
   "execution_count": null,
   "id": "26e64d52",
   "metadata": {},
   "outputs": [],
   "source": []
  },
  {
   "cell_type": "code",
   "execution_count": null,
   "id": "78d719c5",
   "metadata": {},
   "outputs": [],
   "source": []
  },
  {
   "cell_type": "code",
   "execution_count": null,
   "id": "4b0553be",
   "metadata": {},
   "outputs": [],
   "source": []
  },
  {
   "cell_type": "code",
   "execution_count": null,
   "id": "66a29db9",
   "metadata": {},
   "outputs": [],
   "source": []
  },
  {
   "cell_type": "code",
   "execution_count": null,
   "id": "5e597c2c",
   "metadata": {},
   "outputs": [],
   "source": []
  },
  {
   "cell_type": "code",
   "execution_count": null,
   "id": "26f7cb5a",
   "metadata": {},
   "outputs": [],
   "source": []
  },
  {
   "cell_type": "code",
   "execution_count": null,
   "id": "92062cab",
   "metadata": {},
   "outputs": [],
   "source": []
  },
  {
   "cell_type": "code",
   "execution_count": null,
   "id": "f5403b71",
   "metadata": {},
   "outputs": [],
   "source": []
  },
  {
   "cell_type": "code",
   "execution_count": null,
   "id": "eeacb252",
   "metadata": {},
   "outputs": [],
   "source": []
  },
  {
   "cell_type": "code",
   "execution_count": null,
   "id": "f4e028a6",
   "metadata": {},
   "outputs": [],
   "source": []
  },
  {
   "cell_type": "code",
   "execution_count": null,
   "id": "1e006828",
   "metadata": {},
   "outputs": [],
   "source": []
  },
  {
   "cell_type": "code",
   "execution_count": null,
   "id": "ea639ec3",
   "metadata": {},
   "outputs": [],
   "source": []
  },
  {
   "cell_type": "code",
   "execution_count": null,
   "id": "4d243262",
   "metadata": {},
   "outputs": [],
   "source": []
  },
  {
   "cell_type": "code",
   "execution_count": null,
   "id": "e0e8e5c7",
   "metadata": {},
   "outputs": [],
   "source": []
  },
  {
   "cell_type": "code",
   "execution_count": null,
   "id": "3ff3ab45",
   "metadata": {},
   "outputs": [],
   "source": []
  },
  {
   "cell_type": "code",
   "execution_count": null,
   "id": "c12a2325",
   "metadata": {},
   "outputs": [],
   "source": []
  },
  {
   "cell_type": "code",
   "execution_count": null,
   "id": "c0a46acc",
   "metadata": {},
   "outputs": [],
   "source": []
  },
  {
   "cell_type": "code",
   "execution_count": null,
   "id": "ef4d61ed",
   "metadata": {},
   "outputs": [],
   "source": []
  },
  {
   "cell_type": "code",
   "execution_count": null,
   "id": "78de0dde",
   "metadata": {},
   "outputs": [],
   "source": []
  },
  {
   "cell_type": "code",
   "execution_count": null,
   "id": "f658e404",
   "metadata": {},
   "outputs": [],
   "source": []
  },
  {
   "cell_type": "code",
   "execution_count": null,
   "id": "e8a4cda2",
   "metadata": {},
   "outputs": [],
   "source": []
  },
  {
   "cell_type": "code",
   "execution_count": null,
   "id": "1c1483fe",
   "metadata": {},
   "outputs": [],
   "source": []
  },
  {
   "cell_type": "code",
   "execution_count": null,
   "id": "e4f3cc5a",
   "metadata": {},
   "outputs": [],
   "source": []
  },
  {
   "cell_type": "code",
   "execution_count": null,
   "id": "fc2461a2",
   "metadata": {},
   "outputs": [],
   "source": []
  },
  {
   "cell_type": "code",
   "execution_count": null,
   "id": "671784f5",
   "metadata": {},
   "outputs": [],
   "source": []
  },
  {
   "cell_type": "code",
   "execution_count": null,
   "id": "207394b8",
   "metadata": {},
   "outputs": [],
   "source": []
  },
  {
   "cell_type": "code",
   "execution_count": null,
   "id": "3a331f35",
   "metadata": {},
   "outputs": [],
   "source": []
  },
  {
   "cell_type": "code",
   "execution_count": null,
   "id": "6057ef15",
   "metadata": {},
   "outputs": [],
   "source": []
  },
  {
   "cell_type": "code",
   "execution_count": null,
   "id": "73870541",
   "metadata": {},
   "outputs": [],
   "source": []
  },
  {
   "cell_type": "code",
   "execution_count": null,
   "id": "48d4ba05",
   "metadata": {},
   "outputs": [],
   "source": []
  },
  {
   "cell_type": "code",
   "execution_count": null,
   "id": "276ec8f5",
   "metadata": {},
   "outputs": [],
   "source": []
  },
  {
   "cell_type": "code",
   "execution_count": null,
   "id": "861abc83",
   "metadata": {},
   "outputs": [],
   "source": []
  },
  {
   "cell_type": "code",
   "execution_count": null,
   "id": "4b5dc619",
   "metadata": {},
   "outputs": [],
   "source": []
  },
  {
   "cell_type": "code",
   "execution_count": null,
   "id": "c7832ffe",
   "metadata": {},
   "outputs": [],
   "source": []
  },
  {
   "cell_type": "code",
   "execution_count": null,
   "id": "2b845894",
   "metadata": {},
   "outputs": [],
   "source": []
  },
  {
   "cell_type": "code",
   "execution_count": null,
   "id": "8a2490e2",
   "metadata": {},
   "outputs": [],
   "source": []
  },
  {
   "cell_type": "code",
   "execution_count": null,
   "id": "33c7c8e5",
   "metadata": {},
   "outputs": [],
   "source": []
  },
  {
   "cell_type": "code",
   "execution_count": null,
   "id": "cb849f44",
   "metadata": {},
   "outputs": [],
   "source": []
  },
  {
   "cell_type": "code",
   "execution_count": null,
   "id": "831cef78",
   "metadata": {},
   "outputs": [],
   "source": []
  },
  {
   "cell_type": "code",
   "execution_count": null,
   "id": "2723edcc",
   "metadata": {},
   "outputs": [],
   "source": []
  },
  {
   "cell_type": "code",
   "execution_count": null,
   "id": "ea6771bf",
   "metadata": {},
   "outputs": [],
   "source": []
  },
  {
   "cell_type": "code",
   "execution_count": null,
   "id": "18292b08",
   "metadata": {},
   "outputs": [],
   "source": []
  },
  {
   "cell_type": "code",
   "execution_count": null,
   "id": "544e0981",
   "metadata": {},
   "outputs": [],
   "source": []
  },
  {
   "cell_type": "code",
   "execution_count": null,
   "id": "79c1a9e3",
   "metadata": {},
   "outputs": [],
   "source": []
  },
  {
   "cell_type": "code",
   "execution_count": null,
   "id": "64f27cd1",
   "metadata": {},
   "outputs": [],
   "source": []
  },
  {
   "cell_type": "code",
   "execution_count": null,
   "id": "d9c700e9",
   "metadata": {},
   "outputs": [],
   "source": []
  },
  {
   "cell_type": "code",
   "execution_count": null,
   "id": "fdd5cd61",
   "metadata": {},
   "outputs": [],
   "source": []
  },
  {
   "cell_type": "code",
   "execution_count": null,
   "id": "9c9e2a66",
   "metadata": {},
   "outputs": [],
   "source": []
  },
  {
   "cell_type": "code",
   "execution_count": null,
   "id": "fb918426",
   "metadata": {},
   "outputs": [],
   "source": []
  },
  {
   "cell_type": "code",
   "execution_count": null,
   "id": "1588daa4",
   "metadata": {},
   "outputs": [],
   "source": []
  },
  {
   "cell_type": "code",
   "execution_count": null,
   "id": "8c394e87",
   "metadata": {},
   "outputs": [],
   "source": []
  },
  {
   "cell_type": "code",
   "execution_count": null,
   "id": "a60e69c5",
   "metadata": {},
   "outputs": [],
   "source": []
  },
  {
   "cell_type": "code",
   "execution_count": null,
   "id": "682fe883",
   "metadata": {},
   "outputs": [],
   "source": []
  },
  {
   "cell_type": "code",
   "execution_count": null,
   "id": "6bcff7a9",
   "metadata": {},
   "outputs": [],
   "source": []
  },
  {
   "cell_type": "code",
   "execution_count": null,
   "id": "0b7dd42c",
   "metadata": {},
   "outputs": [],
   "source": []
  },
  {
   "cell_type": "code",
   "execution_count": null,
   "id": "f9d90939",
   "metadata": {},
   "outputs": [],
   "source": []
  },
  {
   "cell_type": "code",
   "execution_count": null,
   "id": "6e8981eb",
   "metadata": {},
   "outputs": [],
   "source": []
  },
  {
   "cell_type": "code",
   "execution_count": null,
   "id": "5506eae6",
   "metadata": {},
   "outputs": [],
   "source": []
  },
  {
   "cell_type": "code",
   "execution_count": null,
   "id": "334d8c8e",
   "metadata": {},
   "outputs": [],
   "source": []
  },
  {
   "cell_type": "code",
   "execution_count": null,
   "id": "b1f27e87",
   "metadata": {},
   "outputs": [],
   "source": []
  },
  {
   "cell_type": "code",
   "execution_count": null,
   "id": "a5993a35",
   "metadata": {},
   "outputs": [],
   "source": []
  },
  {
   "cell_type": "code",
   "execution_count": null,
   "id": "4016ec72",
   "metadata": {},
   "outputs": [],
   "source": []
  },
  {
   "cell_type": "code",
   "execution_count": null,
   "id": "548de179",
   "metadata": {},
   "outputs": [],
   "source": []
  },
  {
   "cell_type": "code",
   "execution_count": null,
   "id": "32d2d3a9",
   "metadata": {},
   "outputs": [],
   "source": []
  },
  {
   "cell_type": "code",
   "execution_count": null,
   "id": "4bed9182",
   "metadata": {},
   "outputs": [],
   "source": []
  },
  {
   "cell_type": "code",
   "execution_count": null,
   "id": "ab4682b3",
   "metadata": {},
   "outputs": [],
   "source": []
  },
  {
   "cell_type": "code",
   "execution_count": null,
   "id": "b524772c",
   "metadata": {},
   "outputs": [],
   "source": []
  },
  {
   "cell_type": "code",
   "execution_count": null,
   "id": "87414934",
   "metadata": {},
   "outputs": [],
   "source": []
  },
  {
   "cell_type": "code",
   "execution_count": null,
   "id": "23753d8d",
   "metadata": {},
   "outputs": [],
   "source": []
  },
  {
   "cell_type": "code",
   "execution_count": null,
   "id": "8a69fa91",
   "metadata": {},
   "outputs": [],
   "source": []
  },
  {
   "cell_type": "code",
   "execution_count": null,
   "id": "6f943a1b",
   "metadata": {},
   "outputs": [],
   "source": []
  },
  {
   "cell_type": "code",
   "execution_count": null,
   "id": "ca5dd9ca",
   "metadata": {},
   "outputs": [],
   "source": []
  },
  {
   "cell_type": "code",
   "execution_count": null,
   "id": "bd13478c",
   "metadata": {},
   "outputs": [],
   "source": []
  },
  {
   "cell_type": "code",
   "execution_count": null,
   "id": "ad7b87bd",
   "metadata": {},
   "outputs": [],
   "source": []
  }
 ],
 "metadata": {
  "kernelspec": {
   "display_name": "Python 3",
   "language": "python",
   "name": "python3"
  },
  "language_info": {
   "codemirror_mode": {
    "name": "ipython",
    "version": 3
   },
   "file_extension": ".py",
   "mimetype": "text/x-python",
   "name": "python",
   "nbconvert_exporter": "python",
   "pygments_lexer": "ipython3",
   "version": "3.11.5"
  }
 },
 "nbformat": 4,
 "nbformat_minor": 5
}
